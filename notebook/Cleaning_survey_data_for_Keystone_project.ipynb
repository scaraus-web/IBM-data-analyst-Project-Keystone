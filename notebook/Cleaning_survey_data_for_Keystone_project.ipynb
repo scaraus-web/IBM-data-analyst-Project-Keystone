{
 "cells": [
  {
   "cell_type": "markdown",
   "metadata": {},
   "source": [
    "## Setup: Downloading and Loading the Data\n",
    "**Install the libraries**\n"
   ]
  },
  {
   "cell_type": "code",
   "execution_count": 94,
   "metadata": {},
   "outputs": [
    {
     "name": "stdout",
     "output_type": "stream",
     "text": [
      "Requirement already satisfied: pandas in e:\\anaconda\\lib\\site-packages (2.2.2)\n",
      "Requirement already satisfied: numpy>=1.26.0 in e:\\anaconda\\lib\\site-packages (from pandas) (1.26.4)\n",
      "Requirement already satisfied: python-dateutil>=2.8.2 in e:\\anaconda\\lib\\site-packages (from pandas) (2.9.0.post0)\n",
      "Requirement already satisfied: pytz>=2020.1 in e:\\anaconda\\lib\\site-packages (from pandas) (2024.1)\n",
      "Requirement already satisfied: tzdata>=2022.7 in e:\\anaconda\\lib\\site-packages (from pandas) (2023.3)\n",
      "Requirement already satisfied: six>=1.5 in e:\\anaconda\\lib\\site-packages (from python-dateutil>=2.8.2->pandas) (1.16.0)\n"
     ]
    }
   ],
   "source": [
    "!pip install pandas"
   ]
  },
  {
   "cell_type": "code",
   "execution_count": 95,
   "metadata": {},
   "outputs": [
    {
     "name": "stdout",
     "output_type": "stream",
     "text": [
      "Requirement already satisfied: matplotlib in e:\\anaconda\\lib\\site-packages (3.9.2)\n",
      "Requirement already satisfied: contourpy>=1.0.1 in e:\\anaconda\\lib\\site-packages (from matplotlib) (1.2.0)\n",
      "Requirement already satisfied: cycler>=0.10 in e:\\anaconda\\lib\\site-packages (from matplotlib) (0.11.0)\n",
      "Requirement already satisfied: fonttools>=4.22.0 in e:\\anaconda\\lib\\site-packages (from matplotlib) (4.51.0)\n",
      "Requirement already satisfied: kiwisolver>=1.3.1 in e:\\anaconda\\lib\\site-packages (from matplotlib) (1.4.4)\n",
      "Requirement already satisfied: numpy>=1.23 in e:\\anaconda\\lib\\site-packages (from matplotlib) (1.26.4)\n",
      "Requirement already satisfied: packaging>=20.0 in e:\\anaconda\\lib\\site-packages (from matplotlib) (24.1)\n",
      "Requirement already satisfied: pillow>=8 in e:\\anaconda\\lib\\site-packages (from matplotlib) (10.4.0)\n",
      "Requirement already satisfied: pyparsing>=2.3.1 in e:\\anaconda\\lib\\site-packages (from matplotlib) (3.1.2)\n",
      "Requirement already satisfied: python-dateutil>=2.7 in e:\\anaconda\\lib\\site-packages (from matplotlib) (2.9.0.post0)\n",
      "Requirement already satisfied: six>=1.5 in e:\\anaconda\\lib\\site-packages (from python-dateutil>=2.7->matplotlib) (1.16.0)\n"
     ]
    }
   ],
   "source": [
    "!pip install matplotlib\n"
   ]
  },
  {
   "cell_type": "markdown",
   "metadata": {},
   "source": [
    "### Step 2: Import necessary libraries and load the dataset\n"
   ]
  },
  {
   "cell_type": "code",
   "execution_count": 135,
   "metadata": {},
   "outputs": [],
   "source": [
    "import pandas as pd\n",
    "import matplotlib.pyplot as plt"
   ]
  },
  {
   "cell_type": "markdown",
   "metadata": {},
   "source": [
    "### Load the data\n"
   ]
  },
  {
   "cell_type": "code",
   "execution_count": 138,
   "metadata": {},
   "outputs": [],
   "source": [
    "df = pd.read_csv(\"survey_data_RAW_for google_looker_lab26.csv\")"
   ]
  },
  {
   "cell_type": "markdown",
   "metadata": {},
   "source": [
    "### Display the first few rows of the data to understand its structure\n"
   ]
  },
  {
   "cell_type": "code",
   "execution_count": 140,
   "metadata": {},
   "outputs": [
    {
     "data": {
      "text/html": [
       "<div>\n",
       "<style scoped>\n",
       "    .dataframe tbody tr th:only-of-type {\n",
       "        vertical-align: middle;\n",
       "    }\n",
       "\n",
       "    .dataframe tbody tr th {\n",
       "        vertical-align: top;\n",
       "    }\n",
       "\n",
       "    .dataframe thead th {\n",
       "        text-align: right;\n",
       "    }\n",
       "</style>\n",
       "<table border=\"1\" class=\"dataframe\">\n",
       "  <thead>\n",
       "    <tr style=\"text-align: right;\">\n",
       "      <th></th>\n",
       "      <th>ResponseId</th>\n",
       "      <th>MainBranch</th>\n",
       "      <th>Age</th>\n",
       "      <th>Employment</th>\n",
       "      <th>RemoteWork</th>\n",
       "      <th>Check</th>\n",
       "      <th>CodingActivities</th>\n",
       "      <th>EdLevel</th>\n",
       "      <th>LearnCode</th>\n",
       "      <th>LearnCodeOnline</th>\n",
       "      <th>...</th>\n",
       "      <th>JobSatPoints_6</th>\n",
       "      <th>JobSatPoints_7</th>\n",
       "      <th>JobSatPoints_8</th>\n",
       "      <th>JobSatPoints_9</th>\n",
       "      <th>JobSatPoints_10</th>\n",
       "      <th>JobSatPoints_11</th>\n",
       "      <th>SurveyLength</th>\n",
       "      <th>SurveyEase</th>\n",
       "      <th>ConvertedCompYearly</th>\n",
       "      <th>JobSat</th>\n",
       "    </tr>\n",
       "  </thead>\n",
       "  <tbody>\n",
       "    <tr>\n",
       "      <th>0</th>\n",
       "      <td>2</td>\n",
       "      <td>I am a developer by profession</td>\n",
       "      <td>35-44 years old</td>\n",
       "      <td>Employed, full-time</td>\n",
       "      <td>Remote</td>\n",
       "      <td>Apples</td>\n",
       "      <td>Hobby;Contribute to open-source projects;Other...</td>\n",
       "      <td>Bachelor’s degree (B.A., B.S., B.Eng., etc.)</td>\n",
       "      <td>Books / Physical media;Colleague;On the job tr...</td>\n",
       "      <td>Technical documentation;Blogs;Books;Written Tu...</td>\n",
       "      <td>...</td>\n",
       "      <td>0.0</td>\n",
       "      <td>0.0</td>\n",
       "      <td>0.0</td>\n",
       "      <td>0.0</td>\n",
       "      <td>0.0</td>\n",
       "      <td>0.0</td>\n",
       "      <td>NaN</td>\n",
       "      <td>NaN</td>\n",
       "      <td>NaN</td>\n",
       "      <td>NaN</td>\n",
       "    </tr>\n",
       "  </tbody>\n",
       "</table>\n",
       "<p>1 rows × 114 columns</p>\n",
       "</div>"
      ],
      "text/plain": [
       "   ResponseId                      MainBranch              Age  \\\n",
       "0           2  I am a developer by profession  35-44 years old   \n",
       "\n",
       "            Employment RemoteWork   Check  \\\n",
       "0  Employed, full-time     Remote  Apples   \n",
       "\n",
       "                                    CodingActivities  \\\n",
       "0  Hobby;Contribute to open-source projects;Other...   \n",
       "\n",
       "                                        EdLevel  \\\n",
       "0  Bachelor’s degree (B.A., B.S., B.Eng., etc.)   \n",
       "\n",
       "                                           LearnCode  \\\n",
       "0  Books / Physical media;Colleague;On the job tr...   \n",
       "\n",
       "                                     LearnCodeOnline  ... JobSatPoints_6  \\\n",
       "0  Technical documentation;Blogs;Books;Written Tu...  ...            0.0   \n",
       "\n",
       "  JobSatPoints_7 JobSatPoints_8 JobSatPoints_9 JobSatPoints_10  \\\n",
       "0            0.0            0.0            0.0             0.0   \n",
       "\n",
       "  JobSatPoints_11 SurveyLength SurveyEase ConvertedCompYearly JobSat  \n",
       "0             0.0          NaN        NaN                 NaN    NaN  \n",
       "\n",
       "[1 rows x 114 columns]"
      ]
     },
     "execution_count": 140,
     "metadata": {},
     "output_type": "execute_result"
    }
   ],
   "source": [
    "df.head(1)"
   ]
  },
  {
   "cell_type": "code",
   "execution_count": 143,
   "metadata": {},
   "outputs": [
    {
     "data": {
      "text/plain": [
       "['ResponseId',\n",
       " 'MainBranch',\n",
       " 'Age',\n",
       " 'Employment',\n",
       " 'RemoteWork',\n",
       " 'Check',\n",
       " 'CodingActivities',\n",
       " 'EdLevel',\n",
       " 'LearnCode',\n",
       " 'LearnCodeOnline',\n",
       " 'TechDoc',\n",
       " 'YearsCode',\n",
       " 'YearsCodePro',\n",
       " 'DevType',\n",
       " 'OrgSize',\n",
       " 'PurchaseInfluence',\n",
       " 'BuyNewTool',\n",
       " 'BuildvsBuy',\n",
       " 'TechEndorse',\n",
       " 'Country',\n",
       " 'Currency',\n",
       " 'CompTotal',\n",
       " 'LanguageHaveWorkedWith',\n",
       " 'LanguageWantToWorkWith',\n",
       " 'LanguageAdmired',\n",
       " 'DatabaseHaveWorkedWith',\n",
       " 'DatabaseWantToWorkWith',\n",
       " 'DatabaseAdmired',\n",
       " 'PlatformHaveWorkedWith',\n",
       " 'PlatformWantToWorkWith',\n",
       " 'PlatformAdmired',\n",
       " 'WebframeHaveWorkedWith',\n",
       " 'WebframeWantToWorkWith',\n",
       " 'WebframeAdmired',\n",
       " 'EmbeddedHaveWorkedWith',\n",
       " 'EmbeddedWantToWorkWith',\n",
       " 'EmbeddedAdmired',\n",
       " 'MiscTechHaveWorkedWith',\n",
       " 'MiscTechWantToWorkWith',\n",
       " 'MiscTechAdmired',\n",
       " 'ToolsTechHaveWorkedWith',\n",
       " 'ToolsTechWantToWorkWith',\n",
       " 'ToolsTechAdmired',\n",
       " 'NEWCollabToolsHaveWorkedWith',\n",
       " 'NEWCollabToolsWantToWorkWith',\n",
       " 'NEWCollabToolsAdmired',\n",
       " 'OpSysPersonal use',\n",
       " 'OpSysProfessional use',\n",
       " 'OfficeStackAsyncHaveWorkedWith',\n",
       " 'OfficeStackAsyncWantToWorkWith',\n",
       " 'OfficeStackAsyncAdmired',\n",
       " 'OfficeStackSyncHaveWorkedWith',\n",
       " 'OfficeStackSyncWantToWorkWith',\n",
       " 'OfficeStackSyncAdmired',\n",
       " 'AISearchDevHaveWorkedWith',\n",
       " 'AISearchDevWantToWorkWith',\n",
       " 'AISearchDevAdmired',\n",
       " 'NEWSOSites',\n",
       " 'SOVisitFreq',\n",
       " 'SOAccount',\n",
       " 'SOPartFreq',\n",
       " 'SOHow',\n",
       " 'SOComm',\n",
       " 'AISelect',\n",
       " 'AISent',\n",
       " 'AIBen',\n",
       " 'AIAcc',\n",
       " 'AIComplex',\n",
       " 'AIToolCurrently Using',\n",
       " 'AIToolInterested in Using',\n",
       " 'AIToolNot interested in Using',\n",
       " 'AINextMuch more integrated',\n",
       " 'AINextNo change',\n",
       " 'AINextMore integrated',\n",
       " 'AINextLess integrated',\n",
       " 'AINextMuch less integrated',\n",
       " 'AIThreat',\n",
       " 'AIEthics',\n",
       " 'AIChallenges',\n",
       " 'TBranch',\n",
       " 'ICorPM',\n",
       " 'WorkExp',\n",
       " 'Knowledge_1',\n",
       " 'Knowledge_2',\n",
       " 'Knowledge_3',\n",
       " 'Knowledge_4',\n",
       " 'Knowledge_5',\n",
       " 'Knowledge_6',\n",
       " 'Knowledge_7',\n",
       " 'Knowledge_8',\n",
       " 'Knowledge_9',\n",
       " 'Frequency_1',\n",
       " 'Frequency_2',\n",
       " 'Frequency_3',\n",
       " 'TimeSearching',\n",
       " 'TimeAnswering',\n",
       " 'Frustration',\n",
       " 'ProfessionalTech',\n",
       " 'ProfessionalCloud',\n",
       " 'ProfessionalQuestion',\n",
       " 'Industry',\n",
       " 'JobSatPoints_1',\n",
       " 'JobSatPoints_4',\n",
       " 'JobSatPoints_5',\n",
       " 'JobSatPoints_6',\n",
       " 'JobSatPoints_7',\n",
       " 'JobSatPoints_8',\n",
       " 'JobSatPoints_9',\n",
       " 'JobSatPoints_10',\n",
       " 'JobSatPoints_11',\n",
       " 'SurveyLength',\n",
       " 'SurveyEase',\n",
       " 'ConvertedCompYearly',\n",
       " 'JobSat']"
      ]
     },
     "execution_count": 143,
     "metadata": {},
     "output_type": "execute_result"
    }
   ],
   "source": [
    "df.columns.tolist()"
   ]
  },
  {
   "cell_type": "code",
   "execution_count": 153,
   "metadata": {},
   "outputs": [
    {
     "name": "stderr",
     "output_type": "stream",
     "text": [
      "C:\\Users\\serge\\AppData\\Local\\Temp\\ipykernel_10532\\79182022.py:23: FutureWarning: DataFrame.applymap has been deprecated. Use DataFrame.map instead.\n",
      "  max_len = df_clean[[col + 'Clean' for col in cols_to_clean]].applymap(len).max(axis=1)\n"
     ]
    }
   ],
   "source": [
    "# 🧹 Drop rows with any missing values in key fields\n",
    "df_clean = df.dropna(subset=[\n",
    "    'LanguageHaveWorkedWith', 'DatabaseHaveWorkedWith', 'PlatformHaveWorkedWith', 'WebframeHaveWorkedWith',\n",
    "    'LanguageWantToWorkWith', 'DatabaseWantToWorkWith', 'PlatformWantToWorkWith', 'WebframeWantToWorkWith',\n",
    "    'Age', 'Country', 'EdLevel'\n",
    "]).copy()\n",
    "\n",
    "# 🗂️ Columns to clean\n",
    "cols_to_clean = [\n",
    "    'LanguageHaveWorkedWith', 'DatabaseHaveWorkedWith', 'PlatformHaveWorkedWith', 'WebframeHaveWorkedWith',\n",
    "    'LanguageWantToWorkWith', 'DatabaseWantToWorkWith', 'PlatformWantToWorkWith', 'WebframeWantToWorkWith'\n",
    "]\n",
    "\n",
    "# 🧼 Clean semicolon-separated columns — split + strip only (no exploding yet)\n",
    "for col in cols_to_clean:\n",
    "    df_clean[col + 'Clean'] = df_clean[col].str.split(';').apply(lambda x: [i.strip() for i in x])\n",
    "\n",
    "# 💥 Explode all cleaned columns *together* (safely)\n",
    "# Only explode rows where all clean columns have lists of same length (or fill missing with NaN)\n",
    "from pandas.core.reshape.concat import concat\n",
    "\n",
    "# Step 1: create a new column with the max length of the lists per row\n",
    "max_len = df_clean[[col + 'Clean' for col in cols_to_clean]].applymap(len).max(axis=1)\n",
    "\n",
    "# Step 2: repeat rows based on max list length\n",
    "df_clean = df_clean.loc[df_clean.index.repeat(max_len)].reset_index(drop=True)\n",
    "\n",
    "# Step 3: flatten the lists one by one\n",
    "for col in cols_to_clean:\n",
    "    df_clean[col + 'Clean'] = df_clean[col + 'Clean'].explode(ignore_index=True)\n",
    "\n",
    "# 🗑️ Keep only the necessary columns to reduce file size\n",
    "columns_to_keep = [\n",
    "    'LanguageHaveWorkedWithClean', 'DatabaseHaveWorkedWithClean', 'PlatformHaveWorkedWithClean', 'WebframeHaveWorkedWithClean',\n",
    "    'LanguageWantToWorkWithClean', 'DatabaseWantToWorkWithClean', 'PlatformWantToWorkWithClean', 'WebframeWantToWorkWithClean',\n",
    "    'Age', 'Country', 'EdLevel'\n",
    "]\n",
    "\n",
    "df_clean = df_clean[columns_to_keep]\n",
    "\n",
    "# 💾 Save the cleaned DataFrame to CSV\n",
    "df_clean.to_csv('df_cleanLAB26.csv', index=False)"
   ]
  }
 ],
 "metadata": {
  "kernelspec": {
   "display_name": "Python [conda env:base] *",
   "language": "python",
   "name": "conda-base-py"
  },
  "language_info": {
   "codemirror_mode": {
    "name": "ipython",
    "version": 3
   },
   "file_extension": ".py",
   "mimetype": "text/x-python",
   "name": "python",
   "nbconvert_exporter": "python",
   "pygments_lexer": "ipython3",
   "version": "3.12.7"
  },
  "prev_pub_hash": "1b1fb97e337e72d29cf2d031b4970d6600b32d5dfdbfc293b328e641b595ed88"
 },
 "nbformat": 4,
 "nbformat_minor": 4
}
